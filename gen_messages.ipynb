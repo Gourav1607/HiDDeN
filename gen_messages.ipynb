{
 "cells": [
  {
   "cell_type": "code",
   "execution_count": 1,
   "metadata": {},
   "outputs": [],
   "source": [
    "# HiDDeN / gen_messages.ipynb\n",
    "# Gourav Siddhad\n",
    "# 03-Apr-2019"
   ]
  },
  {
   "cell_type": "code",
   "execution_count": 2,
   "metadata": {},
   "outputs": [
    {
     "name": "stdout",
     "output_type": "stream",
     "text": [
      "Importing Libraries - Done\n"
     ]
    }
   ],
   "source": [
    "from numpy.random import seed\n",
    "seed(1607)\n",
    "from tensorflow import set_random_seed\n",
    "set_random_seed(1607)\n",
    "\n",
    "print('Importing Libraries', end='')\n",
    "\n",
    "import pandas as pd\n",
    "import numpy as np\n",
    "from numpy.random import seed\n",
    "import random\n",
    "import re\n",
    "import os\n",
    "import pandas as pd\n",
    "import time\n",
    "import csv\n",
    "\n",
    "print(' - Done')"
   ]
  },
  {
   "cell_type": "code",
   "execution_count": 3,
   "metadata": {},
   "outputs": [],
   "source": [
    "def gen_message(message_length):\n",
    "    print()\n",
    "    print('Message Length - ', str(message_length))\n",
    "    modelpath = 'models\\\\'\n",
    "\n",
    "    train_msg = []\n",
    "    validate_msg = []\n",
    "\n",
    "    # Train     666*12\n",
    "    # Validate  166*12\n",
    "    # Test       83*12\n",
    "\n",
    "    all_messages_train = []\n",
    "    all_messages_validate = []\n",
    "    all_messages_test = []\n",
    "\n",
    "    print('Train Msg - ', end='')\n",
    "    for i in range(7992):\n",
    "        message = []\n",
    "        for i in range(message_length):\n",
    "            message.append(random.randint(0, 1))\n",
    "        all_messages_train.append(message)\n",
    "    print(' - Done', end=' ')\n",
    "\n",
    "    print('Validate Msg - ', end='')\n",
    "    for i in range(1992):\n",
    "        message = []\n",
    "        for i in range(message_length):\n",
    "            message.append(random.randint(0, 1))\n",
    "        all_messages_validate.append(message)\n",
    "    print(' - Done', end=' ')\n",
    "\n",
    "    print('Test Msg - ', end='')\n",
    "    for i in range(996):\n",
    "        message = []\n",
    "        for i in range(message_length):\n",
    "            message.append(random.randint(0, 1))\n",
    "        all_messages_test.append(message)\n",
    "    print(' - Done', end=' ')\n",
    "    print()\n",
    "    \n",
    "    # Save Messages\n",
    "    print()\n",
    "    print('Saving Messages to CSV')\n",
    "    print('Train - ', end='')\n",
    "    with open(modelpath + str(message_length) + '-train-msg.csv', 'w') as writeFile:\n",
    "        writer = csv.writer(writeFile)\n",
    "        writer.writerows(all_messages_train)\n",
    "    writeFile.close()\n",
    "    print(' - Done', end=' ')\n",
    "\n",
    "    print('Validate - ', end='')\n",
    "    with open(modelpath + str(message_length) + '-validate-msg.csv', 'w') as writeFile:\n",
    "        writer = csv.writer(writeFile)\n",
    "        writer.writerows(all_messages_validate)\n",
    "    writeFile.close()\n",
    "    print(' - Done', end=' ')\n",
    "\n",
    "    print('Test - ', end='')\n",
    "    with open(modelpath + str(message_length) + '-test-msg.csv', 'w') as writeFile:\n",
    "        writer = csv.writer(writeFile)\n",
    "        writer.writerows(all_messages_test)\n",
    "    writeFile.close()\n",
    "    print(' - Done', end=' ')"
   ]
  },
  {
   "cell_type": "code",
   "execution_count": 4,
   "metadata": {},
   "outputs": [
    {
     "name": "stdout",
     "output_type": "stream",
     "text": [
      "\n",
      "Message Length -  30\n",
      "Train Msg -  - Done Validate Msg -  - Done Test Msg -  - Done \n",
      "\n",
      "Saving Messages to CSV\n",
      "Train -  - Done Validate -  - Done Test -  - Done "
     ]
    }
   ],
   "source": [
    "# i=52\n",
    "# while(i<=64):\n",
    "#     gen_message(i)\n",
    "#     i += 2\n",
    "gen_message(30)"
   ]
  },
  {
   "cell_type": "code",
   "execution_count": null,
   "metadata": {},
   "outputs": [],
   "source": []
  }
 ],
 "metadata": {
  "kernelspec": {
   "display_name": "Python 3",
   "language": "python",
   "name": "python3"
  },
  "language_info": {
   "codemirror_mode": {
    "name": "ipython",
    "version": 3
   },
   "file_extension": ".py",
   "mimetype": "text/x-python",
   "name": "python",
   "nbconvert_exporter": "python",
   "pygments_lexer": "ipython3",
   "version": "3.6.8"
  }
 },
 "nbformat": 4,
 "nbformat_minor": 2
}
