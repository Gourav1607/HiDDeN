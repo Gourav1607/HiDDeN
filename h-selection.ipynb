{
 "cells": [
  {
   "cell_type": "code",
   "execution_count": null,
   "metadata": {},
   "outputs": [],
   "source": [
    "# HiDDeN / h-selection.ipynb\n",
    "# Gourav Siddhad\n",
    "# 18-Mar-2019"
   ]
  },
  {
   "cell_type": "code",
   "execution_count": null,
   "metadata": {},
   "outputs": [],
   "source": [
    "print('Importing Libraries', end='')\n",
    "\n",
    "import matplotlib.pyplot as plt\n",
    "from scipy import interp\n",
    "from itertools import cycle\n",
    "\n",
    "import re\n",
    "import numpy as np\n",
    "import pandas as pd\n",
    "import time\n",
    "import random\n",
    "\n",
    "import os\n",
    "from os import listdir\n",
    "from os.path import isfile, join\n",
    "\n",
    "print(' - Done')"
   ]
  },
  {
   "cell_type": "code",
   "execution_count": null,
   "metadata": {},
   "outputs": [],
   "source": [
    "source_dir = 'C:/Users/goura/Documents/HiDDeN/CoCo DataSet/'\n",
    "dest_dir = 'C:/Users/goura/Documents/HiDDeN/'\n",
    "\n",
    "print('Reading Train Images', end='')\n",
    "train_list = os.listdir(source_dir + 'train2017/')\n",
    "print(' - Done')\n",
    "print(len(train_list))\n",
    "\n",
    "print('Reading Validation Images', end='')\n",
    "validation_list = os.listdir(source_dir + 'val2017/')\n",
    "print(' - Done')\n",
    "print(len(validation_list))\n",
    "\n",
    "print('Reading Test Images', end='')\n",
    "test_list = os.listdir(source_dir + 'test2017/')\n",
    "print(' - Done')\n",
    "print(len(test_list))"
   ]
  },
  {
   "cell_type": "code",
   "execution_count": null,
   "metadata": {},
   "outputs": [],
   "source": [
    "train_n, validation_n, test_n = 8000, 2000, 1000\n",
    "train, validation, test = [], [], []\n",
    "\n",
    "print('Selecting {0} values for Train Set'.format(train_n), end='')\n",
    "selected = set()\n",
    "i = 0\n",
    "while i<train_n:\n",
    "    n = random.choice(train_list)\n",
    "    if n not in selected:\n",
    "        selected.add(n)\n",
    "        i += 1\n",
    "for im in selected:\n",
    "    os.rename(source_dir + 'train2017/' + im, dest_dir + 'train/' + im)\n",
    "print(' - Done')\n",
    "\n",
    "print('Selecting {0} values for Validation Set'.format(validation_n), end='')\n",
    "selected = set()\n",
    "i = 0\n",
    "while i<validation_n:\n",
    "    n = random.choice(validation_list)\n",
    "    if n not in selected:\n",
    "        selected.add(n)\n",
    "        i += 1\n",
    "for im in selected:\n",
    "    os.rename(source_dir + 'val2017/' + im, dest_dir + 'validate/' + im)\n",
    "print(' - Done')\n",
    "\n",
    "print('Selecting {0} values for Test Set'.format(test_n), end='')\n",
    "selected = set()\n",
    "i = 0\n",
    "while i<test_n:\n",
    "    n = random.choice(test_list)\n",
    "    if n not in selected:\n",
    "        selected.add(n)\n",
    "        i += 1\n",
    "for im in selected:\n",
    "    os.rename(source_dir + 'test2017/' + im, dest_dir + 'test/' + im)\n",
    "print(' - Done')"
   ]
  },
  {
   "cell_type": "code",
   "execution_count": null,
   "metadata": {},
   "outputs": [],
   "source": []
  }
 ],
 "metadata": {
  "kernelspec": {
   "display_name": "Python 3",
   "language": "python",
   "name": "python3"
  },
  "language_info": {
   "codemirror_mode": {
    "name": "ipython",
    "version": 3
   },
   "file_extension": ".py",
   "mimetype": "text/x-python",
   "name": "python",
   "nbconvert_exporter": "python",
   "pygments_lexer": "ipython3",
   "version": "3.7.2"
  }
 },
 "nbformat": 4,
 "nbformat_minor": 2
}
